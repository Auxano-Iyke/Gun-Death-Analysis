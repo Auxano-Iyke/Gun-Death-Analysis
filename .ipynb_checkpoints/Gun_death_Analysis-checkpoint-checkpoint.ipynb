{
 "cells": [
  {
   "cell_type": "code",
   "execution_count": null,
   "metadata": {},
   "outputs": [],
   "source": [
    "import pandas as pd\n",
    "gun_deaths = pd.read_csv(\"guns.csv\")\n",
    "gun_deaths.columns"
   ]
  },
  {
   "cell_type": "code",
   "execution_count": null,
   "metadata": {},
   "outputs": [],
   "source": [
    "gun_deaths.head()"
   ]
  },
  {
   "cell_type": "code",
   "execution_count": null,
   "metadata": {},
   "outputs": [],
   "source": [
    "gun_deaths['race'].value_counts()"
   ]
  },
  {
   "cell_type": "code",
   "execution_count": null,
   "metadata": {},
   "outputs": [],
   "source": [
    "gun_deaths['intent'].value_counts()"
   ]
  },
  {
   "cell_type": "code",
   "execution_count": null,
   "metadata": {},
   "outputs": [],
   "source": [
    "homicide = gun_deaths[gun_deaths['intent'] == 'Homicide']\n",
    "homicide['education'].value_counts()"
   ]
  },
  {
   "cell_type": "code",
   "execution_count": null,
   "metadata": {},
   "outputs": [],
   "source": [
    "# This shows that the higher the education level, the less likely that they died as a result of homicides."
   ]
  },
  {
   "cell_type": "code",
   "execution_count": null,
   "metadata": {},
   "outputs": [],
   "source": [
    "suicide = gun_deaths[gun_deaths['intent'] == 'Suicide']\n",
    "suicide['education'].value_counts()"
   ]
  },
  {
   "cell_type": "code",
   "execution_count": null,
   "metadata": {},
   "outputs": [],
   "source": [
    "# number of suicides reduced as the level of education increases. this could be explained by the didtribution of the general population according to education level.\n",
    "#it is likely that number of people reducings the higher the education level."
   ]
  },
  {
   "cell_type": "code",
   "execution_count": null,
   "metadata": {},
   "outputs": [],
   "source": [
    "blacks = gun_deaths[gun_deaths['race'] == 'Black']\n",
    "blacks['intent'].value_counts()"
   ]
  },
  {
   "cell_type": "code",
   "execution_count": null,
   "metadata": {},
   "outputs": [],
   "source": [
    "black_homicide = blacks[blacks['intent']== 'Homicide']\n",
    "black_homicide['education'].value_counts()"
   ]
  },
  {
   "cell_type": "code",
   "execution_count": null,
   "metadata": {},
   "outputs": [],
   "source": [
    "police = gun_deaths[gun_deaths['police'] == 1]\n",
    "police['race'].value_counts()"
   ]
  },
  {
   "cell_type": "code",
   "execution_count": null,
   "metadata": {},
   "outputs": [],
   "source": [
    "gun_deaths['place'].value_counts()"
   ]
  },
  {
   "cell_type": "code",
   "execution_count": null,
   "metadata": {},
   "outputs": [],
   "source": [
    "gun_deaths['year'].value_counts()"
   ]
  },
  {
   "cell_type": "code",
   "execution_count": null,
   "metadata": {},
   "outputs": [],
   "source": [
    "sex_count =dict(gun_deaths['sex'].value_counts())\n",
    "print(sex_count)"
   ]
  },
  {
   "cell_type": "code",
   "execution_count": null,
   "metadata": {},
   "outputs": [],
   "source": [
    "#finding the number of gun deaths per 100000 of the population  \n",
    "\n",
    "race_count = dict(gun_deaths['race'].value_counts())\n",
    "\n",
    "mapping ={\n",
    "    'Asian/Pacific Islander':15834141,\n",
    "    'Black':40250635,\n",
    "    'Hispanic':44618105,\n",
    "    'Native American/Native Alaskan':3739506,\n",
    "    'White':197318956\n",
    "}\n",
    "\n",
    "race_per_hundredk ={}\n",
    "\n",
    "for key,value in race_count.items():\n",
    "    race_per_hundredk[key] = (value/mapping[key]) * 100000\n",
    "print(race_per_hundredk)"
   ]
  },
  {
   "cell_type": "code",
   "execution_count": null,
   "metadata": {},
   "outputs": [],
   "source": [
    "homicide_race_count = gun_deaths[gun_deaths['intent']== 'Homicide']['race'].value_counts()\n",
    "print(homicide_race_count)\n",
    "\n",
    "race_homicide_per_hundredk ={}\n",
    "\n",
    "for key,value in homicide_race_count.items():\n",
    "    race_homicide_per_hundredk[key] = (value/mapping[key]) * 100000\n",
    "print(race_homicide_per_hundredk)\n",
    "    "
   ]
  },
  {
   "cell_type": "code",
   "execution_count": null,
   "metadata": {},
   "outputs": [],
   "source": [
    "#This result shows that approx 58 blacks died per 100,000 from gun deaths within the period anlysed.\n",
    "# This is compared to 34 for whites, 20 for hispanics and 25 for native americans.\n",
    "# for the period analysed, the homicide death rate is 48 per 100000 for black compared to 5 for whites,12 for hispanics and 9 for Native Americans."
   ]
  },
  {
   "cell_type": "code",
   "execution_count": null,
   "metadata": {},
   "outputs": [],
   "source": [
    "police_race_count = gun_deaths[gun_deaths['police'] == 1]['race'].value_counts()\n",
    "print(police_race_count)\n",
    "\n",
    "police_death_count_per_hundk ={}\n",
    "\n",
    "for key,value in police_race_count.items():\n",
    "    police_death_count_per_hundk[key] = (value/mapping[key]) *100000\n",
    "print(police_death_count_per_hundk)"
   ]
  },
  {
   "cell_type": "code",
   "execution_count": null,
   "metadata": {},
   "outputs": [],
   "source": [
    "# in the period analysed, there were 0.8 per 100000 police related black deaths, compared to 0.6 for hispanics and 0.4 for whites. "
   ]
  },
  {
   "cell_type": "code",
   "execution_count": null,
   "metadata": {},
   "outputs": [],
   "source": [
    "# Gun related suicide age distribution.\n",
    "print(gun_deaths['intent'].value_counts())\n",
    "suicides = gun_deaths[gun_deaths['intent']== 'Suicide']\n",
    "suicide_age = suicides['age']\n",
    "count_31 = 0\n",
    "count_45 = 0\n",
    "count_60 = 0\n",
    "count_75 = 0\n",
    "count_90 = 0\n",
    "for each in suicide_age:\n",
    "    if each in range(1,31):\n",
    "        count_31 = count_31 + 1\n",
    "    elif each in range(31,45):\n",
    "        count_45 = count_45 + 1\n",
    "    elif each in range(45,61):\n",
    "        count_60 = count_60 + 1\n",
    "    elif each in range(61,76):\n",
    "        count_75 = count_75 + 1\n",
    "    else:\n",
    "        count_90 = count_90 + 1 # This contains NAN values , so please sort out the NAN issues.\n",
    "print(\"1-30 years: \" + str(count_31))\n",
    "print(\"31-44 years: \" + str(count_45))\n",
    "print(\"45-60 years: \" + str(count_60))\n",
    "print(\"61-75 years: \" + str(count_75))\n",
    "print(\"76+ years: \" + str(count_90))\n",
    "#find a way to solve this. remove all Nan values from SUICIDE_age and convert to int. use a dictionary to achieve the name value combination."
   ]
  },
  {
   "cell_type": "code",
   "execution_count": null,
   "metadata": {},
   "outputs": [],
   "source": [
    "import numpy as np\n",
    "suicides['age'].value_counts().sort_index()\n",
    "\n",
    "intervals = pd.interval_range(start = 0, end =110, freq =11)\n",
    "gr_freg_table_10 = pd.Series([0 for _ in range(10)], index = intervals)\n",
    "\n",
    "for value in suicides['age']:\n",
    "    for interval in intervals:\n",
    "        if value in interval:\n",
    "            np.warnings.filterwarnings('ignore')\n",
    "            gr_freg_table_10.loc[interval] += 1\n",
    "            break\n",
    "gr_freg_table_10"
   ]
  },
  {
   "cell_type": "code",
   "execution_count": null,
   "metadata": {},
   "outputs": [],
   "source": [
    "#Suicide related gun deaths, Gender count\n",
    "suicides['sex'].value_counts()"
   ]
  },
  {
   "cell_type": "code",
   "execution_count": null,
   "metadata": {},
   "outputs": [],
   "source": [
    "# The ratio of male to female gun related suicide is approx 6:1 ,which is extremely high.\n",
    "# Question? : are men more prone to commiting suicides ? or are they more likely to take there life with the aid of a gun, than any other means?"
   ]
  },
  {
   "cell_type": "code",
   "execution_count": null,
   "metadata": {},
   "outputs": [],
   "source": []
  },
  {
   "cell_type": "code",
   "execution_count": null,
   "metadata": {},
   "outputs": [],
   "source": []
  },
  {
   "cell_type": "code",
   "execution_count": null,
   "metadata": {},
   "outputs": [],
   "source": []
  }
 ],
 "metadata": {
  "kernelspec": {
   "display_name": "Python 3",
   "language": "python",
   "name": "python3"
  },
  "language_info": {
   "codemirror_mode": {
    "name": "ipython",
    "version": 3
   },
   "file_extension": ".py",
   "mimetype": "text/x-python",
   "name": "python",
   "nbconvert_exporter": "python",
   "pygments_lexer": "ipython3",
   "version": "3.6.4"
  }
 },
 "nbformat": 4,
 "nbformat_minor": 2
}
