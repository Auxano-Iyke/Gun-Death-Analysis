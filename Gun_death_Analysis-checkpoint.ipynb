{
 "cells": [
  {
   "cell_type": "code",
   "execution_count": 29,
   "metadata": {},
   "outputs": [
    {
     "data": {
      "text/plain": [
       "Index(['Unnamed: 0', 'year', 'month', 'intent', 'police', 'sex', 'age', 'race',\n",
       "       'hispanic', 'place', 'education'],\n",
       "      dtype='object')"
      ]
     },
     "execution_count": 29,
     "metadata": {},
     "output_type": "execute_result"
    }
   ],
   "source": [
    "import pandas as pd\n",
    "gun_deaths = pd.read_csv(\"guns.csv\")\n",
    "gun_deaths.columns"
   ]
  },
  {
   "cell_type": "code",
   "execution_count": 31,
   "metadata": {},
   "outputs": [
    {
     "data": {
      "text/html": [
       "<div>\n",
       "<style scoped>\n",
       "    .dataframe tbody tr th:only-of-type {\n",
       "        vertical-align: middle;\n",
       "    }\n",
       "\n",
       "    .dataframe tbody tr th {\n",
       "        vertical-align: top;\n",
       "    }\n",
       "\n",
       "    .dataframe thead th {\n",
       "        text-align: right;\n",
       "    }\n",
       "</style>\n",
       "<table border=\"1\" class=\"dataframe\">\n",
       "  <thead>\n",
       "    <tr style=\"text-align: right;\">\n",
       "      <th></th>\n",
       "      <th>Unnamed: 0</th>\n",
       "      <th>year</th>\n",
       "      <th>month</th>\n",
       "      <th>intent</th>\n",
       "      <th>police</th>\n",
       "      <th>sex</th>\n",
       "      <th>age</th>\n",
       "      <th>race</th>\n",
       "      <th>hispanic</th>\n",
       "      <th>place</th>\n",
       "      <th>education</th>\n",
       "    </tr>\n",
       "  </thead>\n",
       "  <tbody>\n",
       "    <tr>\n",
       "      <th>0</th>\n",
       "      <td>1</td>\n",
       "      <td>2012</td>\n",
       "      <td>1</td>\n",
       "      <td>Suicide</td>\n",
       "      <td>0</td>\n",
       "      <td>M</td>\n",
       "      <td>34.0</td>\n",
       "      <td>Asian/Pacific Islander</td>\n",
       "      <td>100</td>\n",
       "      <td>Home</td>\n",
       "      <td>4.0</td>\n",
       "    </tr>\n",
       "    <tr>\n",
       "      <th>1</th>\n",
       "      <td>2</td>\n",
       "      <td>2012</td>\n",
       "      <td>1</td>\n",
       "      <td>Suicide</td>\n",
       "      <td>0</td>\n",
       "      <td>F</td>\n",
       "      <td>21.0</td>\n",
       "      <td>White</td>\n",
       "      <td>100</td>\n",
       "      <td>Street</td>\n",
       "      <td>3.0</td>\n",
       "    </tr>\n",
       "    <tr>\n",
       "      <th>2</th>\n",
       "      <td>3</td>\n",
       "      <td>2012</td>\n",
       "      <td>1</td>\n",
       "      <td>Suicide</td>\n",
       "      <td>0</td>\n",
       "      <td>M</td>\n",
       "      <td>60.0</td>\n",
       "      <td>White</td>\n",
       "      <td>100</td>\n",
       "      <td>Other specified</td>\n",
       "      <td>4.0</td>\n",
       "    </tr>\n",
       "    <tr>\n",
       "      <th>3</th>\n",
       "      <td>4</td>\n",
       "      <td>2012</td>\n",
       "      <td>2</td>\n",
       "      <td>Suicide</td>\n",
       "      <td>0</td>\n",
       "      <td>M</td>\n",
       "      <td>64.0</td>\n",
       "      <td>White</td>\n",
       "      <td>100</td>\n",
       "      <td>Home</td>\n",
       "      <td>4.0</td>\n",
       "    </tr>\n",
       "    <tr>\n",
       "      <th>4</th>\n",
       "      <td>5</td>\n",
       "      <td>2012</td>\n",
       "      <td>2</td>\n",
       "      <td>Suicide</td>\n",
       "      <td>0</td>\n",
       "      <td>M</td>\n",
       "      <td>31.0</td>\n",
       "      <td>White</td>\n",
       "      <td>100</td>\n",
       "      <td>Other specified</td>\n",
       "      <td>2.0</td>\n",
       "    </tr>\n",
       "  </tbody>\n",
       "</table>\n",
       "</div>"
      ],
      "text/plain": [
       "   Unnamed: 0  year  month   intent  police sex   age                    race  \\\n",
       "0           1  2012      1  Suicide       0   M  34.0  Asian/Pacific Islander   \n",
       "1           2  2012      1  Suicide       0   F  21.0                   White   \n",
       "2           3  2012      1  Suicide       0   M  60.0                   White   \n",
       "3           4  2012      2  Suicide       0   M  64.0                   White   \n",
       "4           5  2012      2  Suicide       0   M  31.0                   White   \n",
       "\n",
       "   hispanic            place  education  \n",
       "0       100             Home        4.0  \n",
       "1       100           Street        3.0  \n",
       "2       100  Other specified        4.0  \n",
       "3       100             Home        4.0  \n",
       "4       100  Other specified        2.0  "
      ]
     },
     "execution_count": 31,
     "metadata": {},
     "output_type": "execute_result"
    }
   ],
   "source": [
    "gun_deaths.head()"
   ]
  },
  {
   "cell_type": "code",
   "execution_count": 33,
   "metadata": {},
   "outputs": [
    {
     "data": {
      "text/plain": [
       "White                             66237\n",
       "Black                             23296\n",
       "Hispanic                           9022\n",
       "Asian/Pacific Islander             1326\n",
       "Native American/Native Alaskan      917\n",
       "Name: race, dtype: int64"
      ]
     },
     "execution_count": 33,
     "metadata": {},
     "output_type": "execute_result"
    }
   ],
   "source": [
    "gun_deaths['race'].value_counts()"
   ]
  },
  {
   "cell_type": "code",
   "execution_count": 35,
   "metadata": {},
   "outputs": [
    {
     "data": {
      "text/plain": [
       "Suicide         63175\n",
       "Homicide        35176\n",
       "Accidental       1639\n",
       "Undetermined      807\n",
       "Name: intent, dtype: int64"
      ]
     },
     "execution_count": 35,
     "metadata": {},
     "output_type": "execute_result"
    }
   ],
   "source": [
    "gun_deaths['intent'].value_counts()"
   ]
  },
  {
   "cell_type": "code",
   "execution_count": 37,
   "metadata": {},
   "outputs": [
    {
     "data": {
      "text/plain": [
       "2.0    15649\n",
       "1.0    11839\n",
       "3.0     5640\n",
       "4.0     1559\n",
       "5.0      455\n",
       "Name: education, dtype: int64"
      ]
     },
     "execution_count": 37,
     "metadata": {},
     "output_type": "execute_result"
    }
   ],
   "source": [
    "homicide = gun_deaths[gun_deaths['intent'] == 'Homicide']\n",
    "homicide['education'].value_counts()"
   ]
  },
  {
   "cell_type": "code",
   "execution_count": 39,
   "metadata": {},
   "outputs": [],
   "source": [
    "# This shows that the higher the education level, the less likely that they died as a result of homicides."
   ]
  },
  {
   "cell_type": "code",
   "execution_count": 41,
   "metadata": {},
   "outputs": [
    {
     "data": {
      "text/plain": [
       "2.0    26321\n",
       "3.0    15533\n",
       "4.0    11147\n",
       "1.0     9292\n",
       "5.0      876\n",
       "Name: education, dtype: int64"
      ]
     },
     "execution_count": 41,
     "metadata": {},
     "output_type": "execute_result"
    }
   ],
   "source": [
    "suicide = gun_deaths[gun_deaths['intent'] == 'Suicide']\n",
    "suicide['education'].value_counts()"
   ]
  },
  {
   "cell_type": "code",
   "execution_count": 43,
   "metadata": {},
   "outputs": [],
   "source": [
    "# number of suicides reduced as the level of education increases. this could be explained by the didtribution of the general population according to education level.\n",
    "#it is likely that number of people reducings the higher the education level."
   ]
  },
  {
   "cell_type": "code",
   "execution_count": 45,
   "metadata": {},
   "outputs": [
    {
     "data": {
      "text/plain": [
       "Homicide        19510\n",
       "Suicide          3332\n",
       "Accidental        328\n",
       "Undetermined      126\n",
       "Name: intent, dtype: int64"
      ]
     },
     "execution_count": 45,
     "metadata": {},
     "output_type": "execute_result"
    }
   ],
   "source": [
    "blacks = gun_deaths[gun_deaths['race'] == 'Black']\n",
    "blacks['intent'].value_counts()"
   ]
  },
  {
   "cell_type": "code",
   "execution_count": 47,
   "metadata": {},
   "outputs": [
    {
     "data": {
      "text/plain": [
       "2.0    9088\n",
       "1.0    6767\n",
       "3.0    3031\n",
       "4.0     420\n",
       "5.0     193\n",
       "Name: education, dtype: int64"
      ]
     },
     "execution_count": 47,
     "metadata": {},
     "output_type": "execute_result"
    }
   ],
   "source": [
    "black_homicide = blacks[blacks['intent']== 'Homicide']\n",
    "black_homicide['education'].value_counts()"
   ]
  },
  {
   "cell_type": "code",
   "execution_count": 49,
   "metadata": {},
   "outputs": [
    {
     "data": {
      "text/plain": [
       "White                             709\n",
       "Black                             356\n",
       "Hispanic                          282\n",
       "Asian/Pacific Islander             30\n",
       "Native American/Native Alaskan     25\n",
       "Name: race, dtype: int64"
      ]
     },
     "execution_count": 49,
     "metadata": {},
     "output_type": "execute_result"
    }
   ],
   "source": [
    "police = gun_deaths[gun_deaths['police'] == 1]\n",
    "police['race'].value_counts()"
   ]
  },
  {
   "cell_type": "code",
   "execution_count": 51,
   "metadata": {},
   "outputs": [
    {
     "data": {
      "text/plain": [
       "Home                       60486\n",
       "Other specified            13751\n",
       "Street                     11151\n",
       "Other unspecified           8867\n",
       "Trade/service area          3439\n",
       "School/instiution            671\n",
       "Farm                         470\n",
       "Industrial/construction      248\n",
       "Residential institution      203\n",
       "Sports                       128\n",
       "Name: place, dtype: int64"
      ]
     },
     "execution_count": 51,
     "metadata": {},
     "output_type": "execute_result"
    }
   ],
   "source": [
    "gun_deaths['place'].value_counts()"
   ]
  },
  {
   "cell_type": "code",
   "execution_count": 53,
   "metadata": {},
   "outputs": [
    {
     "data": {
      "text/plain": [
       "2013    33636\n",
       "2014    33599\n",
       "2012    33563\n",
       "Name: year, dtype: int64"
      ]
     },
     "execution_count": 53,
     "metadata": {},
     "output_type": "execute_result"
    }
   ],
   "source": [
    "gun_deaths['year'].value_counts()"
   ]
  },
  {
   "cell_type": "code",
   "execution_count": 55,
   "metadata": {},
   "outputs": [
    {
     "name": "stdout",
     "output_type": "stream",
     "text": [
      "{'M': 86349, 'F': 14449}\n"
     ]
    }
   ],
   "source": [
    "sex_count =dict(gun_deaths['sex'].value_counts())\n",
    "print(sex_count)"
   ]
  },
  {
   "cell_type": "code",
   "execution_count": 57,
   "metadata": {},
   "outputs": [
    {
     "name": "stdout",
     "output_type": "stream",
     "text": [
      "{'White': 33.56849303419181, 'Black': 57.8773477735196, 'Hispanic': 20.220491210910907, 'Asian/Pacific Islander': 8.374309664161762, 'Native American/Native Alaskan': 24.521955573811088}\n"
     ]
    }
   ],
   "source": [
    "#finding the number of gun deaths per 100000 of the population  \n",
    "\n",
    "race_count = dict(gun_deaths['race'].value_counts())\n",
    "\n",
    "mapping ={\n",
    "    'Asian/Pacific Islander':15834141,\n",
    "    'Black':40250635,\n",
    "    'Hispanic':44618105,\n",
    "    'Native American/Native Alaskan':3739506,\n",
    "    'White':197318956\n",
    "}\n",
    "\n",
    "race_per_hundredk ={}\n",
    "\n",
    "for key,value in race_count.items():\n",
    "    race_per_hundredk[key] = (value/mapping[key]) * 100000\n",
    "print(race_per_hundredk)"
   ]
  },
  {
   "cell_type": "code",
   "execution_count": 59,
   "metadata": {},
   "outputs": [
    {
     "name": "stdout",
     "output_type": "stream",
     "text": [
      "Black                             19510\n",
      "White                              9147\n",
      "Hispanic                           5634\n",
      "Asian/Pacific Islander              559\n",
      "Native American/Native Alaskan      326\n",
      "Name: race, dtype: int64\n",
      "{'Black': 48.471284987180944, 'White': 4.6356417981453335, 'Hispanic': 12.627161104219914, 'Asian/Pacific Islander': 3.530346230970155, 'Native American/Native Alaskan': 8.717729026240365}\n"
     ]
    }
   ],
   "source": [
    "homicide_race_count = gun_deaths[gun_deaths['intent']== 'Homicide']['race'].value_counts()\n",
    "print(homicide_race_count)\n",
    "\n",
    "race_homicide_per_hundredk ={}\n",
    "\n",
    "for key,value in homicide_race_count.items():\n",
    "    race_homicide_per_hundredk[key] = (value/mapping[key]) * 100000\n",
    "print(race_homicide_per_hundredk)\n",
    "    "
   ]
  },
  {
   "cell_type": "code",
   "execution_count": 61,
   "metadata": {},
   "outputs": [],
   "source": [
    "#This result shows that approx 58 blacks died per 100,000 from gun deaths within the period anlysed.\n",
    "# This is compared to 34 for whites, 20 for hispanics and 25 for native americans.\n",
    "# for the period analysed, the homicide death rate is 48 per 100000 for black compared to 5 for whites,12 for hispanics and 9 for Native Americans."
   ]
  },
  {
   "cell_type": "code",
   "execution_count": 63,
   "metadata": {},
   "outputs": [
    {
     "name": "stdout",
     "output_type": "stream",
     "text": [
      "White                             709\n",
      "Black                             356\n",
      "Hispanic                          282\n",
      "Asian/Pacific Islander             30\n",
      "Native American/Native Alaskan     25\n",
      "Name: race, dtype: int64\n",
      "{'White': 0.3593167196769478, 'Black': 0.8844580961269306, 'Hispanic': 0.6320304280067475, 'Asian/Pacific Islander': 0.18946401955117112, 'Native American/Native Alaskan': 0.6685375020122979}\n"
     ]
    }
   ],
   "source": [
    "police_race_count = gun_deaths[gun_deaths['police'] == 1]['race'].value_counts()\n",
    "print(police_race_count)\n",
    "\n",
    "police_death_count_per_hundk ={}\n",
    "\n",
    "for key,value in police_race_count.items():\n",
    "    police_death_count_per_hundk[key] = (value/mapping[key]) *100000\n",
    "print(police_death_count_per_hundk)"
   ]
  },
  {
   "cell_type": "code",
   "execution_count": 65,
   "metadata": {},
   "outputs": [],
   "source": [
    "# in the period analysed, there were 0.8 per 100000 police related black deaths, compared to 0.6 for hispanics and 0.4 for whites. "
   ]
  },
  {
   "cell_type": "code",
   "execution_count": 67,
   "metadata": {},
   "outputs": [
    {
     "name": "stdout",
     "output_type": "stream",
     "text": [
      "Suicide         63175\n",
      "Homicide        35176\n",
      "Accidental       1639\n",
      "Undetermined      807\n",
      "Name: intent, dtype: int64\n",
      "1-30 years: 12330\n",
      "31-44 years: 11973\n",
      "45-60 years: 19673\n",
      "61-75 years: 12109\n",
      "76+ years: 7090\n"
     ]
    }
   ],
   "source": [
    "# Gun related suicide age distribution.\n",
    "print(gun_deaths['intent'].value_counts())\n",
    "suicides = gun_deaths[gun_deaths['intent']== 'Suicide']\n",
    "suicide_age = suicides['age']\n",
    "count_31 = 0\n",
    "count_45 = 0\n",
    "count_60 = 0\n",
    "count_75 = 0\n",
    "count_90 = 0\n",
    "for each in suicide_age:\n",
    "    if each in range(1,31):\n",
    "        count_31 = count_31 + 1\n",
    "    elif each in range(31,45):\n",
    "        count_45 = count_45 + 1\n",
    "    elif each in range(45,61):\n",
    "        count_60 = count_60 + 1\n",
    "    elif each in range(61,76):\n",
    "        count_75 = count_75 + 1\n",
    "    else:\n",
    "        count_90 = count_90 + 1 # This contains NAN values , so please sort out the NAN issues.\n",
    "print(\"1-30 years: \" + str(count_31))\n",
    "print(\"31-44 years: \" + str(count_45))\n",
    "print(\"45-60 years: \" + str(count_60))\n",
    "print(\"61-75 years: \" + str(count_75))\n",
    "print(\"76+ years: \" + str(count_90))\n",
    "#find a way to solve this. remove all Nan values from SUICIDE_age and convert to int. use a dictionary to achieve the name value combination."
   ]
  },
  {
   "cell_type": "code",
   "execution_count": 75,
   "metadata": {},
   "outputs": [
    {
     "data": {
      "text/plain": [
       "(0, 11]         19\n",
       "(11, 22]      5211\n",
       "(22, 33]      9576\n",
       "(33, 44]      9497\n",
       "(44, 55]     13447\n",
       "(55, 66]     11909\n",
       "(66, 77]      7501\n",
       "(77, 88]      5003\n",
       "(88, 99]      1000\n",
       "(99, 110]        5\n",
       "dtype: int64"
      ]
     },
     "execution_count": 75,
     "metadata": {},
     "output_type": "execute_result"
    }
   ],
   "source": [
    "import numpy as np\n",
    "suicides['age'].value_counts().sort_index()\n",
    "\n",
    "intervals = pd.interval_range(start = 0, end =110, freq =11)\n",
    "gr_freq_table_10 = pd.Series([0 for _ in range(10)], index = intervals)\n",
    "\n",
    "for value in suicides['age']:\n",
    "    for interval in intervals:\n",
    "        if value in interval:\n",
    "            np.warnings.filterwarnings('ignore')\n",
    "            gr_freq_table_10.loc[interval] += 1\n",
    "            break\n",
    "gr_freq_table_10"
   ]
  },
  {
   "cell_type": "code",
   "execution_count": 71,
   "metadata": {},
   "outputs": [
    {
     "data": {
      "text/plain": [
       "M    54486\n",
       "F     8689\n",
       "Name: sex, dtype: int64"
      ]
     },
     "execution_count": 71,
     "metadata": {},
     "output_type": "execute_result"
    }
   ],
   "source": [
    "#Suicide related gun deaths, Gender count\n",
    "suicides['sex'].value_counts()"
   ]
  },
  {
   "cell_type": "code",
   "execution_count": 73,
   "metadata": {},
   "outputs": [],
   "source": [
    "# The ratio of male to female gun related suicide is approx 6:1 ,which is extremely high.\n",
    "# Question? : are men more prone to commiting suicides ? or are they more likely to take there life with the aid of a gun, than any other means?"
   ]
  },
  {
   "cell_type": "code",
   "execution_count": null,
   "metadata": {},
   "outputs": [],
   "source": []
  },
  {
   "cell_type": "code",
   "execution_count": null,
   "metadata": {},
   "outputs": [],
   "source": []
  },
  {
   "cell_type": "code",
   "execution_count": null,
   "metadata": {},
   "outputs": [],
   "source": []
  }
 ],
 "metadata": {
  "kernelspec": {
   "display_name": "Python 3",
   "language": "python",
   "name": "python3"
  },
  "language_info": {
   "codemirror_mode": {
    "name": "ipython",
    "version": 3
   },
   "file_extension": ".py",
   "mimetype": "text/x-python",
   "name": "python",
   "nbconvert_exporter": "python",
   "pygments_lexer": "ipython3",
   "version": "3.6.4"
  }
 },
 "nbformat": 4,
 "nbformat_minor": 2
}
